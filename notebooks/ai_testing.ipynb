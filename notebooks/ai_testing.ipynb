import pandas as pd
from api_utils import get_openai_response, get_claude_response, get_mistral_response

# Define test prompt
prompt = "Generate a traditional Neapolitan Pizza Margherita recipe with authentic ingredients and correct preparation steps."

# Call AI models
openai_response = get_openai_response(prompt)
claude_response = get_claude_response(prompt)
mistral_response = get_mistral_response(prompt)

# Store responses in a DataFrame
df = pd.DataFrame({
    "Model": ["GPT-4", "Claude 3.5", "Mistral"],
    "Response": [openai_response, claude_response, mistral_response]
})

# Save results to CSV
csv_filename = "../results/ai_recipe_testing.csv"
df.to_csv(csv_filename, index=False)

# Display results
df.head()
